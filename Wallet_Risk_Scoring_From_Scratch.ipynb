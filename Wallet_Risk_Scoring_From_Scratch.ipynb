{
  "nbformat": 4,
  "nbformat_minor": 0,
  "metadata": {
    "colab": {
      "provenance": [],
      "authorship_tag": "ABX9TyPkPc4Upkza0ZVuWc8iq8+D",
      "include_colab_link": true
    },
    "kernelspec": {
      "name": "python3",
      "display_name": "Python 3"
    },
    "language_info": {
      "name": "python"
    }
  },
  "cells": [
    {
      "cell_type": "markdown",
      "metadata": {
        "id": "view-in-github",
        "colab_type": "text"
      },
      "source": [
        "<a href=\"https://colab.research.google.com/github/prayanshgupta129/Wallet-Risk-Scoring-From-Scratch/blob/main/Wallet_Risk_Scoring_From_Scratch.ipynb\" target=\"_parent\"><img src=\"https://colab.research.google.com/assets/colab-badge.svg\" alt=\"Open In Colab\"/></a>"
      ]
    },
    {
      "cell_type": "code",
      "source": [
        "pip install subgrounds gql requests pandas numpy scikit-learn\n"
      ],
      "metadata": {
        "colab": {
          "base_uri": "https://localhost:8080/"
        },
        "id": "zIgg8Vs7x1rp",
        "outputId": "d89946a2-11ff-453f-ae83-3ec4904d6bab"
      },
      "execution_count": 4,
      "outputs": [
        {
          "output_type": "stream",
          "name": "stdout",
          "text": [
            "Collecting subgrounds\n",
            "  Downloading subgrounds-1.9.1-py3-none-any.whl.metadata (4.9 kB)\n",
            "Collecting gql\n",
            "  Downloading gql-3.5.3-py2.py3-none-any.whl.metadata (9.4 kB)\n",
            "Requirement already satisfied: requests in /usr/local/lib/python3.11/dist-packages (2.32.3)\n",
            "Requirement already satisfied: pandas in /usr/local/lib/python3.11/dist-packages (2.2.2)\n",
            "Requirement already satisfied: numpy in /usr/local/lib/python3.11/dist-packages (2.0.2)\n",
            "Requirement already satisfied: scikit-learn in /usr/local/lib/python3.11/dist-packages (1.6.1)\n",
            "Collecting httpx<0.26.0,>=0.25.1 (from httpx[http2]<0.26.0,>=0.25.1->subgrounds)\n",
            "  Downloading httpx-0.25.2-py3-none-any.whl.metadata (6.9 kB)\n",
            "Collecting pipe<3.0,>=2.0 (from subgrounds)\n",
            "  Downloading pipe-2.2-py3-none-any.whl.metadata (17 kB)\n",
            "Requirement already satisfied: pydantic<3.0,>=2.0 in /usr/local/lib/python3.11/dist-packages (from subgrounds) (2.11.7)\n",
            "Collecting pytest-asyncio (from subgrounds)\n",
            "  Downloading pytest_asyncio-1.1.0-py3-none-any.whl.metadata (4.1 kB)\n",
            "Collecting graphql-core<3.2.7,>=3.2 (from gql)\n",
            "  Downloading graphql_core-3.2.6-py3-none-any.whl.metadata (11 kB)\n",
            "Requirement already satisfied: yarl<2.0,>=1.6 in /usr/local/lib/python3.11/dist-packages (from gql) (1.20.1)\n",
            "Collecting backoff<3.0,>=1.11.1 (from gql)\n",
            "  Downloading backoff-2.2.1-py3-none-any.whl.metadata (14 kB)\n",
            "Requirement already satisfied: anyio<5,>=3.0 in /usr/local/lib/python3.11/dist-packages (from gql) (4.9.0)\n",
            "Requirement already satisfied: charset-normalizer<4,>=2 in /usr/local/lib/python3.11/dist-packages (from requests) (3.4.2)\n",
            "Requirement already satisfied: idna<4,>=2.5 in /usr/local/lib/python3.11/dist-packages (from requests) (3.10)\n",
            "Requirement already satisfied: urllib3<3,>=1.21.1 in /usr/local/lib/python3.11/dist-packages (from requests) (2.5.0)\n",
            "Requirement already satisfied: certifi>=2017.4.17 in /usr/local/lib/python3.11/dist-packages (from requests) (2025.7.14)\n",
            "Requirement already satisfied: python-dateutil>=2.8.2 in /usr/local/lib/python3.11/dist-packages (from pandas) (2.9.0.post0)\n",
            "Requirement already satisfied: pytz>=2020.1 in /usr/local/lib/python3.11/dist-packages (from pandas) (2025.2)\n",
            "Requirement already satisfied: tzdata>=2022.7 in /usr/local/lib/python3.11/dist-packages (from pandas) (2025.2)\n",
            "Requirement already satisfied: scipy>=1.6.0 in /usr/local/lib/python3.11/dist-packages (from scikit-learn) (1.16.0)\n",
            "Requirement already satisfied: joblib>=1.2.0 in /usr/local/lib/python3.11/dist-packages (from scikit-learn) (1.5.1)\n",
            "Requirement already satisfied: threadpoolctl>=3.1.0 in /usr/local/lib/python3.11/dist-packages (from scikit-learn) (3.6.0)\n",
            "Requirement already satisfied: sniffio>=1.1 in /usr/local/lib/python3.11/dist-packages (from anyio<5,>=3.0->gql) (1.3.1)\n",
            "Requirement already satisfied: typing_extensions>=4.5 in /usr/local/lib/python3.11/dist-packages (from anyio<5,>=3.0->gql) (4.14.1)\n",
            "Requirement already satisfied: httpcore==1.* in /usr/local/lib/python3.11/dist-packages (from httpx<0.26.0,>=0.25.1->httpx[http2]<0.26.0,>=0.25.1->subgrounds) (1.0.9)\n",
            "Requirement already satisfied: h11>=0.16 in /usr/local/lib/python3.11/dist-packages (from httpcore==1.*->httpx<0.26.0,>=0.25.1->httpx[http2]<0.26.0,>=0.25.1->subgrounds) (0.16.0)\n",
            "Requirement already satisfied: h2<5,>=3 in /usr/local/lib/python3.11/dist-packages (from httpx[http2]<0.26.0,>=0.25.1->subgrounds) (4.2.0)\n",
            "Requirement already satisfied: annotated-types>=0.6.0 in /usr/local/lib/python3.11/dist-packages (from pydantic<3.0,>=2.0->subgrounds) (0.7.0)\n",
            "Requirement already satisfied: pydantic-core==2.33.2 in /usr/local/lib/python3.11/dist-packages (from pydantic<3.0,>=2.0->subgrounds) (2.33.2)\n",
            "Requirement already satisfied: typing-inspection>=0.4.0 in /usr/local/lib/python3.11/dist-packages (from pydantic<3.0,>=2.0->subgrounds) (0.4.1)\n",
            "Requirement already satisfied: six>=1.5 in /usr/local/lib/python3.11/dist-packages (from python-dateutil>=2.8.2->pandas) (1.17.0)\n",
            "Requirement already satisfied: multidict>=4.0 in /usr/local/lib/python3.11/dist-packages (from yarl<2.0,>=1.6->gql) (6.6.3)\n",
            "Requirement already satisfied: propcache>=0.2.1 in /usr/local/lib/python3.11/dist-packages (from yarl<2.0,>=1.6->gql) (0.3.2)\n",
            "Requirement already satisfied: pytest<9,>=8.2 in /usr/local/lib/python3.11/dist-packages (from pytest-asyncio->subgrounds) (8.4.1)\n",
            "Requirement already satisfied: hyperframe<7,>=6.1 in /usr/local/lib/python3.11/dist-packages (from h2<5,>=3->httpx[http2]<0.26.0,>=0.25.1->subgrounds) (6.1.0)\n",
            "Requirement already satisfied: hpack<5,>=4.1 in /usr/local/lib/python3.11/dist-packages (from h2<5,>=3->httpx[http2]<0.26.0,>=0.25.1->subgrounds) (4.1.0)\n",
            "Requirement already satisfied: iniconfig>=1 in /usr/local/lib/python3.11/dist-packages (from pytest<9,>=8.2->pytest-asyncio->subgrounds) (2.1.0)\n",
            "Requirement already satisfied: packaging>=20 in /usr/local/lib/python3.11/dist-packages (from pytest<9,>=8.2->pytest-asyncio->subgrounds) (25.0)\n",
            "Requirement already satisfied: pluggy<2,>=1.5 in /usr/local/lib/python3.11/dist-packages (from pytest<9,>=8.2->pytest-asyncio->subgrounds) (1.6.0)\n",
            "Requirement already satisfied: pygments>=2.7.2 in /usr/local/lib/python3.11/dist-packages (from pytest<9,>=8.2->pytest-asyncio->subgrounds) (2.19.2)\n",
            "Downloading subgrounds-1.9.1-py3-none-any.whl (73 kB)\n",
            "\u001b[2K   \u001b[90m━━━━━━━━━━━━━━━━━━━━━━━━━━━━━━━━━━━━━━━━\u001b[0m \u001b[32m73.7/73.7 kB\u001b[0m \u001b[31m4.2 MB/s\u001b[0m eta \u001b[36m0:00:00\u001b[0m\n",
            "\u001b[?25hDownloading gql-3.5.3-py2.py3-none-any.whl (74 kB)\n",
            "\u001b[2K   \u001b[90m━━━━━━━━━━━━━━━━━━━━━━━━━━━━━━━━━━━━━━━━\u001b[0m \u001b[32m74.3/74.3 kB\u001b[0m \u001b[31m4.7 MB/s\u001b[0m eta \u001b[36m0:00:00\u001b[0m\n",
            "\u001b[?25hDownloading backoff-2.2.1-py3-none-any.whl (15 kB)\n",
            "Downloading graphql_core-3.2.6-py3-none-any.whl (203 kB)\n",
            "\u001b[2K   \u001b[90m━━━━━━━━━━━━━━━━━━━━━━━━━━━━━━━━━━━━━━━━\u001b[0m \u001b[32m203.4/203.4 kB\u001b[0m \u001b[31m13.9 MB/s\u001b[0m eta \u001b[36m0:00:00\u001b[0m\n",
            "\u001b[?25hDownloading httpx-0.25.2-py3-none-any.whl (74 kB)\n",
            "\u001b[2K   \u001b[90m━━━━━━━━━━━━━━━━━━━━━━━━━━━━━━━━━━━━━━━━\u001b[0m \u001b[32m75.0/75.0 kB\u001b[0m \u001b[31m5.6 MB/s\u001b[0m eta \u001b[36m0:00:00\u001b[0m\n",
            "\u001b[?25hDownloading pipe-2.2-py3-none-any.whl (9.7 kB)\n",
            "Downloading pytest_asyncio-1.1.0-py3-none-any.whl (15 kB)\n",
            "Installing collected packages: pipe, graphql-core, backoff, pytest-asyncio, httpx, gql, subgrounds\n",
            "  Attempting uninstall: httpx\n",
            "    Found existing installation: httpx 0.28.1\n",
            "    Uninstalling httpx-0.28.1:\n",
            "      Successfully uninstalled httpx-0.28.1\n",
            "\u001b[31mERROR: pip's dependency resolver does not currently take into account all the packages that are installed. This behaviour is the source of the following dependency conflicts.\n",
            "google-genai 1.26.0 requires httpx<1.0.0,>=0.28.1, but you have httpx 0.25.2 which is incompatible.\n",
            "firebase-admin 6.9.0 requires httpx[http2]==0.28.1, but you have httpx 0.25.2 which is incompatible.\u001b[0m\u001b[31m\n",
            "\u001b[0mSuccessfully installed backoff-2.2.1 gql-3.5.3 graphql-core-3.2.6 httpx-0.25.2 pipe-2.2 pytest-asyncio-1.1.0 subgrounds-1.9.1\n"
          ]
        }
      ]
    },
    {
      "cell_type": "code",
      "source": [
        "from subgrounds import Subgrounds\n",
        "import pandas as pd\n",
        "\n",
        "# === Step 1: Connect to Subgraph ===\n",
        "sg = Subgrounds()\n",
        "subgraph = sg.load_subgraph(\"https://gateway.thegraph.com/api/23ad967061b76af0136f8dd9942c24ea/subgraphs/id/AwoxEZbiWLvv6e3QdvdMZw4WDURdGbvPfHmZRc8Dpfz9\")\n",
        "\n",
        "# === Step 2: Define Entities ===\n",
        "deposits = subgraph.Query.deposits\n",
        "borrows = subgraph.Query.borrows\n",
        "repays = subgraph.Query.repays\n",
        "\n",
        "# === Step 3: Fetch Data (First 5000 records per entity) ===\n",
        "df_deposits = sg.query_df([\n",
        "    deposits.account.id,\n",
        "    deposits.amount\n",
        "])\n",
        "df_deposits.rename(columns={\"deposits_account_id\": \"wallet_id\", \"deposits_amount\": \"amount\"}, inplace=True)\n",
        "\n",
        "df_borrows = sg.query_df([\n",
        "    borrows.account.id,\n",
        "    borrows.amount\n",
        "])\n",
        "df_borrows.rename(columns={\"borrows_account_id\": \"wallet_id\", \"borrows_amount\": \"amount\"}, inplace=True)\n",
        "\n",
        "df_repays = sg.query_df([\n",
        "    repays.account.id,\n",
        "    repays.amount\n",
        "])\n",
        "df_repays.rename(columns={\"repays_account_id\": \"wallet_id\", \"repays_amount\": \"amount\"}, inplace=True)\n",
        "\n",
        "# === Step 4: Extract active wallets ===\n",
        "wallet_list = df_deposits['wallet_id'].unique().tolist()\n",
        "print(f\"Using {len(wallet_list)} active wallets from subgraph\")\n",
        "\n",
        "# === Step 5: Compute credit scores ===\n",
        "results = []\n",
        "for wallet in wallet_list:\n",
        "    total_deposited = df_deposits[df_deposits[\"wallet_id\"] == wallet][\"amount\"].sum()\n",
        "    total_borrowed = df_borrows[df_borrows[\"wallet_id\"] == wallet][\"amount\"].sum()\n",
        "    total_repaid   = df_repays[df_repays[\"wallet_id\"] == wallet][\"amount\"].sum()\n",
        "\n",
        "    # Credit Score Logic\n",
        "    if total_borrowed == 0:\n",
        "        credit_score = 0.0\n",
        "    else:\n",
        "        repay_ratio = total_repaid / total_borrowed\n",
        "        credit_score = round(min(1.0, repay_ratio) * 1000, 2)\n",
        "\n",
        "    results.append({\n",
        "        \"wallet\": wallet,\n",
        "        \"credit_score\": credit_score\n",
        "    })\n",
        "\n",
        "# === Step 6: Export or Display ===\n",
        "df_results = pd.DataFrame(results)\n",
        "print(df_results.head(10))  # show first 10\n",
        "\n",
        "# Save to CSV\n",
        "df_results.to_csv(\"credit_scores.csv\", index=False)\n",
        "\n",
        "\n",
        "\n",
        "\n",
        "\n",
        "\n",
        "\n",
        "\n",
        "\n",
        "\n",
        "\n",
        "\n"
      ],
      "metadata": {
        "colab": {
          "base_uri": "https://localhost:8080/"
        },
        "id": "sJPGfx8G5Shl",
        "outputId": "c65670d4-769e-4bde-fac9-8f455afef140"
      },
      "execution_count": 24,
      "outputs": [
        {
          "output_type": "stream",
          "name": "stdout",
          "text": [
            "Using 90 active wallets from subgraph\n",
            "                                       wallet  credit_score\n",
            "0  0x84e2c0837d761ef6078b9dbf3839e108155d84f2           0.0\n",
            "1  0x7f7bbb19026b5eca0b6cdb96caa84923716532a5           0.0\n",
            "2  0x7aa50cb10a59dc1d5be57b3a4010d253811d0ea2           0.0\n",
            "3  0xf007d777a761fb94f29193e902fca80181c8b009           0.0\n",
            "4  0xbb01bfa9171ca3f3acf86393bf51e871812d1684           0.0\n",
            "5  0x1f72aeb2407ab1832ede569b8aa49866aafa0f10           0.0\n",
            "6  0x9c483fa4d84a218940bfa02652fcaf01ee8f44f2           0.0\n",
            "7  0x7f3bd73c598b5956440089fda4e99c950feb6a83           0.0\n",
            "8  0xa3e5e60b6d5f23aebc91a062b96ea3cad1a341f0           0.0\n",
            "9  0x4303c46c71f6e48eaa96ab3f194b79fac082e46a           0.0\n"
          ]
        }
      ]
    }
  ]
}